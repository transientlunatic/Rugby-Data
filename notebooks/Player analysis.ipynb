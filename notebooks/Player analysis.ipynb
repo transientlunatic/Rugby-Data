{
 "cells": [
  {
   "cell_type": "code",
   "execution_count": 1,
   "metadata": {},
   "outputs": [],
   "source": [
    "import pandas as pd"
   ]
  },
  {
   "cell_type": "code",
   "execution_count": 2,
   "metadata": {},
   "outputs": [],
   "source": [
    "data = pd.read_json(\"../json/Guinness Pro14-2018-2019.json\")"
   ]
  },
  {
   "cell_type": "code",
   "execution_count": 3,
   "metadata": {},
   "outputs": [],
   "source": [
    "from rugby import *"
   ]
  },
  {
   "cell_type": "code",
   "execution_count": 4,
   "metadata": {},
   "outputs": [
    {
     "name": "stdout",
     "output_type": "stream",
     "text": [
      "[41, 0] [80]\n",
      "[54, 0] [80]\n"
     ]
    }
   ],
   "source": [
    "pro14 = Tournament(\"Pro 14\", \"2018-2019\", data)"
   ]
  },
  {
   "cell_type": "code",
   "execution_count": 43,
   "metadata": {},
   "outputs": [
    {
     "data": {
      "text/plain": [
       "Glasgow"
      ]
     },
     "execution_count": 43,
     "metadata": {},
     "output_type": "execute_result"
    }
   ],
   "source": [
    "pro14.teams()[7]"
   ]
  },
  {
   "cell_type": "code",
   "execution_count": 66,
   "metadata": {},
   "outputs": [],
   "source": [
    "team = pro14.teams()[2]"
   ]
  },
  {
   "cell_type": "code",
   "execution_count": 67,
   "metadata": {},
   "outputs": [],
   "source": [
    "players = team.squad(pro14)"
   ]
  },
  {
   "cell_type": "code",
   "execution_count": 68,
   "metadata": {},
   "outputs": [
    {
     "name": "stdout",
     "output_type": "stream",
     "text": [
      "Ospreys\n",
      "Player              \tPoints\tTime\t0.00\n",
      "--------------------------------------------\n",
      "Williams            \t357\t1620\t0.22\n",
      "Robert McCusker     \t49\t342\t0.14\n",
      "Will Jones          \t18\t73\t0.25\n",
      "Joe Thomas          \t86\t280\t0.31\n",
      "Ma'afu Fia          \t103\t338\t0.30\n",
      "Justin Tipuric      \t333\t998\t0.33\n",
      "Reuben Morgan-Williams\t3\t27\t0.11\n",
      "Olly Cracknell      \t295\t1291\t0.23\n",
      "Bradley Davies      \t216\t757\t0.29\n",
      "Nicky Smith         \t241\t664\t0.36\n",
      "Scott Baldwin       \t213\t901\t0.24\n",
      "Otten               \t184\t631\t0.29\n",
      "Hanno Dirkson       \t196\t916\t0.21\n",
      "Jordan Lay          \t20\t218\t0.09\n",
      "Will Griffiths      \t0\t24\t0.00\n",
      "Morgan Morris       \t6\t50\t0.12\n",
      "Ifan Phillips       \t7\t30\t0.23\n",
      "Sam Cross           \t179\t812\t0.22\n",
      "Owen Watkin         \t330\t953\t0.35\n",
      "Guido Volpi         \t14\t52\t0.27\n",
      "Tom Botha           \t257\t1157\t0.22\n",
      "Gheorghe Gajion     \t0\t36\t0.00\n",
      "Scott Williams      \t120\t443\t0.27\n",
      "James Ratti         \t9\t56\t0.16\n",
      "James King          \t343\t1417\t0.24\n",
      "Gareth Thomas       \t68\t315\t0.22\n",
      "Harri Morgan        \t17\t102\t0.17\n",
      "Rhodri Jones        \t97\t424\t0.23\n",
      "Alun-Wyn Jones      \t225\t720\t0.31\n",
      "Keelan Giles        \t163\t637\t0.26\n",
      "Tom Habberfield     \t37\t385\t0.10\n",
      "James Hook          \t42\t266\t0.16\n",
      "Matthew Aubrey      \t29\t161\t0.18\n",
      "Aled Davies         \t340\t1007\t0.34\n",
      "Jenkins             \t0\t92\t0.00\n",
      "Jeffries            \t66\t158\t0.42\n",
      "Sam Parry           \t22\t118\t0.19\n",
      "Adam Beard          \t287\t821\t0.35\n",
      "Luke Morgan         \t192\t905\t0.21\n",
      "Lloyd Ashley        \t59\t431\t0.14\n",
      "Sam Davies          \t315\t1276\t0.25\n",
      "Luke Price          \t104\t400\t0.26\n",
      "John-Ben Kotze      \t3\t139\t0.02\n",
      "Tiaan Thomas-Wheeler\t43\t315\t0.14\n",
      "George North        \t223\t732\t0.30\n",
      "Giorgi Nemsadze     \t18\t160\t0.11\n",
      "Daniel Evans        \t391\t1440\t0.27\n",
      "Dan Lydiate         \t103\t382\t0.27\n",
      "Cory Allen          \t277\t1164\t0.24\n"
     ]
    }
   ],
   "source": [
    "print(team.name)\n",
    "row = \"{:20}\\t{}\\t{}\\t{:.2f}\"\n",
    "print(row.format(\"Player\", \"Points\", \"Time\",0 ))\n",
    "print(\"-\"*(7+len(row.format(\"Player\", \"Points\", \"Time\", 0 ))))\n",
    "for player in players:\n",
    "    if player.total_play_time(pro14) == 0: continue\n",
    "    print(row.format(player.name, player.total_on_field_points(pro14), player.total_play_time(pro14), player.total_on_field_points(pro14) / player.total_play_time(pro14)))"
   ]
  },
  {
   "cell_type": "code",
   "execution_count": 53,
   "metadata": {},
   "outputs": [],
   "source": [
    "total_times = {player.name: player.total_play_time(pro14) for player in pro14.players()}"
   ]
  },
  {
   "cell_type": "code",
   "execution_count": 54,
   "metadata": {},
   "outputs": [],
   "source": [
    "total_Scores = {player.name: player.total_on_field_points(pro14) for player in pro14.players()}"
   ]
  },
  {
   "cell_type": "code",
   "execution_count": 55,
   "metadata": {},
   "outputs": [],
   "source": [
    "import matplotlib.pyplot as plt"
   ]
  },
  {
   "cell_type": "code",
   "execution_count": 56,
   "metadata": {},
   "outputs": [
    {
     "data": {
      "text/plain": [
       "Text(0, 0.5, 'Relative frequency')"
      ]
     },
     "execution_count": 56,
     "metadata": {},
     "output_type": "execute_result"
    },
    {
     "name": "stderr",
     "output_type": "stream",
     "text": [
      "findfont: Font family [\"'URW Bookman L'\"] not found. Falling back to DejaVu Sans.\n"
     ]
    },
    {
     "data": {
      "image/png": "[encoded data removed]",
      "text/plain": [
       "<Figure size 432x288 with 1 Axes>"
      ]
     },
     "metadata": {
      "needs_background": "light"
     },
     "output_type": "display_data"
    }
   ],
   "source": [
    "plt.violinplot(total_Scores.values(), vert=False);\n",
    "plt.xlabel(\"Total points scored while player was on-field\")\n",
    "plt.ylabel(\"Relative frequency\")"
   ]
  },
  {
   "cell_type": "code",
   "execution_count": 58,
   "metadata": {},
   "outputs": [
    {
     "data": {
      "text/plain": [
       "Text(0, 0.5, 'Relative frequency')"
      ]
     },
     "execution_count": 58,
     "metadata": {},
     "output_type": "execute_result"
    },
    {
     "data": {
      "image/png": "[encoded data removed]",
      "text/plain": [
       "<Figure size 432x288 with 1 Axes>"
      ]
     },
     "metadata": {
      "needs_background": "light"
     },
     "output_type": "display_data"
    }
   ],
   "source": [
    "import numpy as np\n",
    "plt.violinplot(np.array(list(total_times.values()))/60, vert=False);\n",
    "plt.xlabel(\"Total play time\")\n",
    "plt.ylabel(\"Relative frequency\")\n",
    "\n",
    "#plt.annotate(\"Stuart Hogg\", xy=(total_times['Stuart Hogg']/60, 1.1), rotation=45)\n",
    "#plt.annotate(\"George Horne\", xy=(total_times['George Horne']/60, 1.1), rotation=45)\n",
    "#plt.annotate(\"Rob Harley\", xy=(total_times['Robert Harley']/60, 1.1), rotation=45)"
   ]
  },
  {
   "cell_type": "code",
   "execution_count": 1047,
   "metadata": {},
   "outputs": [
    {
     "data": {
      "text/plain": [
       "595"
      ]
     },
     "execution_count": 1047,
     "metadata": {},
     "output_type": "execute_result"
    }
   ],
   "source": []
  },
  {
   "cell_type": "code",
   "execution_count": 723,
   "metadata": {},
   "outputs": [
    {
     "name": "stdout",
     "output_type": "stream",
     "text": [
      "50\n",
      "34\n",
      "32\n",
      "30\n",
      "8\n",
      "7\n",
      "28\n",
      "14\n",
      "52\n",
      "25\n",
      "27\n"
     ]
    }
   ],
   "source": [
    "player = players[2]\n",
    "for match in player.matches(pro14):\n",
    "    position = [position for position in match.home.lineup if position.player == player]\n",
    "    if len(position)==1:\n",
    "        side = match.home\n",
    "        \n",
    "    else:\n",
    "        position = [position for position in match.away.lineup if position.player == player]\n",
    "        side = match.away\n",
    "    position = position[0]\n",
    "    print(sum([score.value for score in side.scores if (score.minute in position.playing) and (score.type is not \"conversion\")]))"
   ]
  },
  {
   "cell_type": "code",
   "execution_count": 692,
   "metadata": {},
   "outputs": [
    {
     "data": {
      "text/plain": [
       "[14\t| Tommy Seymour,\n",
       " 14\t| Tommy Seymour,\n",
       " 14\t| Tommy Seymour,\n",
       " 14\t| Tommy Seymour,\n",
       " 14\t| Tommy Seymour,\n",
       " 14\t| Tommy Seymour,\n",
       " 14\t| Tommy Seymour,\n",
       " 14\t| Tommy Seymour,\n",
       " 14\t| Tommy Seymour,\n",
       " 14\t| Tommy Seymour,\n",
       " 14\t| Tommy Seymour]"
      ]
     },
     "execution_count": 692,
     "metadata": {},
     "output_type": "execute_result"
    }
   ],
   "source": [
    "players[2].positions(pro14)"
   ]
  },
  {
   "cell_type": "code",
   "execution_count": 687,
   "metadata": {},
   "outputs": [
    {
     "data": {
      "text/plain": [
       "range(0, 62)"
      ]
     },
     "execution_count": 687,
     "metadata": {},
     "output_type": "execute_result"
    }
   ],
   "source": [
    "players[2].positions(pro14)[1].playing"
   ]
  },
  {
   "cell_type": "code",
   "execution_count": 624,
   "metadata": {},
   "outputs": [
    {
     "name": "stdout",
     "output_type": "stream",
     "text": [
      "Chris Fusaro 5\n",
      "Stafford McDowall 10\n",
      "Tommy Seymour 40\n",
      "Robbie Nairn 10\n",
      "Robert Harley 5\n",
      "Kevin Bryce 0\n",
      "Jamie Bhattie 0\n",
      "Petrus Du Plessis 0\n",
      "Stuart Hogg 15\n",
      "George Turner 10\n",
      "Sam Johnson 15\n",
      "Callum Gibbins 20\n",
      "Fraser Brown 10\n",
      "Robbie Smith 0\n",
      "Nick Grigg 20\n",
      "Patrick Kelly 0\n",
      "Matthew Smith 0\n",
      "Rory Hughes 10\n",
      "Kyle Steyn 10\n",
      "Scott Cummings 5\n",
      "Ryan Wilson 5\n",
      "Oli Kebble 5\n",
      "Kiren McDonald 0\n",
      "Ratu Tagive 0\n",
      "Alex Dunbar 5\n",
      "George Horne 72\n",
      "Siua Halanukonuka 0\n",
      "Ali Price 25\n",
      "Brandon Thomson 57\n",
      "Greg Peterson 5\n",
      "Alex Allen 0\n",
      "Ruaridh Jackson 5\n",
      "Peter Horne 96\n",
      "Huw Jones 20\n",
      "Nick Frisby 5\n",
      "Van der Merwe 0\n",
      "Tim Swinson 10\n",
      "David Tameilau 5\n",
      "Lee Jones 20\n",
      "Zander Fagerson 25\n",
      "Adam Hastings 131\n",
      "Nikola Matawalu 30\n",
      "Matt Fagerson 30\n",
      "Thomas Gordon 0\n",
      "Adam Nicol 0\n",
      "Adam Ashe 17\n",
      "D'Arcy Rae 0\n",
      "Grant Stewart 10\n",
      "Bruce Flockhart 0\n",
      "Johnny Gray 0\n",
      "Andrew Davidson 0\n"
     ]
    }
   ],
   "source": [
    "hornes = [x for x in players if (\"Horne\" in x.name)]\n",
    "for player in players:\n",
    "    total_score = sum([score.value for score in player.scores(pro14)])\n",
    "    print(player, total_score)"
   ]
  },
  {
   "cell_type": "code",
   "execution_count": 638,
   "metadata": {},
   "outputs": [
    {
     "data": {
      "text/plain": [
       "[0]"
      ]
     },
     "execution_count": 638,
     "metadata": {},
     "output_type": "execute_result"
    }
   ],
   "source": [
    "players[0].positions(pro14)[0].on_times"
   ]
  },
  {
   "cell_type": "code",
   "execution_count": 637,
   "metadata": {},
   "outputs": [
    {
     "data": {
      "text/plain": [
       "[]"
      ]
     },
     "execution_count": 637,
     "metadata": {},
     "output_type": "execute_result"
    }
   ],
   "source": [
    "players[0].positions(pro14)[3].off_times"
   ]
  },
  {
   "cell_type": "code",
   "execution_count": 632,
   "metadata": {},
   "outputs": [
    {
     "data": {
      "text/plain": [
       "0"
      ]
     },
     "execution_count": 632,
     "metadata": {},
     "output_type": "execute_result"
    }
   ],
   "source": [
    "if len(players[0].positions(pro14)[0].off_times)"
   ]
  },
  {
   "cell_type": "code",
   "execution_count": 641,
   "metadata": {},
   "outputs": [],
   "source": [
    "for position in players[0].positions(pro14):\n",
    "    if len(position.on_times) > 0:\n",
    "        if len(position.off_times) == 0:\n",
    "            position.off_times.append(80)\n",
    "    for i, on_times in enumerate(position.on_times):\n",
    "        position.playing = range(position.on_times[i], position.off_times[i])"
   ]
  },
  {
   "cell_type": "code",
   "execution_count": 643,
   "metadata": {},
   "outputs": [
    {
     "data": {
      "text/plain": [
       "range(0, 80)"
      ]
     },
     "execution_count": 643,
     "metadata": {},
     "output_type": "execute_result"
    }
   ],
   "source": [
    "players[0].positions(pro14)[0].playing"
   ]
  },
  {
   "cell_type": "code",
   "execution_count": null,
   "metadata": {},
   "outputs": [],
   "source": []
  }
 ],
 "metadata": {
  "kernelspec": {
   "display_name": "Python 3",
   "language": "python",
   "name": "python3"
  },
  "language_info": {
   "codemirror_mode": {
    "name": "ipython",
    "version": 3
   },
   "file_extension": ".py",
   "mimetype": "text/x-python",
   "name": "python",
   "nbconvert_exporter": "python",
   "pygments_lexer": "ipython3",
   "version": "3.6.7"
  }
 },
 "nbformat": 4,
 "nbformat_minor": 2
}
