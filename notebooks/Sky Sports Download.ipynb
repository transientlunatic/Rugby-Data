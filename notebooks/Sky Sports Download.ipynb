{
 "cells": [
  {
   "cell_type": "code",
   "execution_count": 1,
   "metadata": {},
   "outputs": [],
   "source": [
    "from rugby import professional as pro"
   ]
  },
  {
   "cell_type": "code",
   "execution_count": 27,
   "metadata": {},
   "outputs": [],
   "source": [
    "start = [2006 + i for i in range(15)]"
   ]
  },
  {
   "cell_type": "code",
   "execution_count": 26,
   "metadata": {},
   "outputs": [
    {
     "data": {
      "text/plain": [
       "[2006,\n",
       " 2007,\n",
       " 2008,\n",
       " 2009,\n",
       " 2010,\n",
       " 2011,\n",
       " 2012,\n",
       " 2013,\n",
       " 2014,\n",
       " 2015,\n",
       " 2016,\n",
       " 2017,\n",
       " 2018,\n",
       " 2019,\n",
       " 2020,\n",
       " 2021,\n",
       " 2022]"
      ]
     },
     "execution_count": 26,
     "metadata": {},
     "output_type": "execute_result"
    }
   ],
   "source": [
    "start"
   ]
  },
  {
   "cell_type": "code",
   "execution_count": 28,
   "metadata": {},
   "outputs": [
    {
     "name": "stdout",
     "output_type": "stream",
     "text": [
      "http://www.skysports.com/rugby-union/competitions/gallagher-premiership/results/2006-07\n",
      "Downloaded 135 new results\n",
      "http://www.skysports.com/rugby-union/competitions/gallagher-premiership/results/2007-08\n",
      "Downloaded 134 new results\n",
      "http://www.skysports.com/rugby-union/competitions/gallagher-premiership/results/2008-09\n",
      "Downloaded 135 new results\n",
      "http://www.skysports.com/rugby-union/competitions/gallagher-premiership/results/2009-10\n",
      "Downloaded 135 new results\n",
      "http://www.skysports.com/rugby-union/competitions/gallagher-premiership/results/2010-11\n",
      "Downloaded 133 new results\n",
      "http://www.skysports.com/rugby-union/competitions/gallagher-premiership/results/2011-12\n",
      "Downloaded 135 new results\n",
      "http://www.skysports.com/rugby-union/competitions/gallagher-premiership/results/2012-13\n",
      "Downloaded 135 new results\n",
      "http://www.skysports.com/rugby-union/competitions/gallagher-premiership/results/2013-14\n",
      "Downloaded 135 new results\n",
      "http://www.skysports.com/rugby-union/competitions/gallagher-premiership/results/2014-15\n",
      "Downloaded 135 new results\n",
      "http://www.skysports.com/rugby-union/competitions/gallagher-premiership/results/2015-16\n",
      "Downloaded 134 new results\n",
      "http://www.skysports.com/rugby-union/competitions/gallagher-premiership/results/2016-17\n",
      "Downloaded 135 new results\n",
      "http://www.skysports.com/rugby-union/competitions/gallagher-premiership/results/2017-18\n",
      "Downloaded 135 new results\n",
      "http://www.skysports.com/rugby-union/competitions/gallagher-premiership/results/2018-19\n",
      "Downloaded 135 new results\n",
      "http://www.skysports.com/rugby-union/competitions/gallagher-premiership/results/2019-20\n",
      "Downloaded 156 new results\n",
      "http://www.skysports.com/rugby-union/competitions/gallagher-premiership/results/2020-21\n",
      "Downloaded 135 new results\n",
      "http://www.skysports.com/rugby-union/competitions/gallagher-premiership/results/2021-22\n",
      "Downloaded 125 new results\n"
     ]
    }
   ],
   "source": [
    "for start_year in start:\n",
    "    pro.download_json(season=f\"{start_year}-{(start_year+1)}\", league=\"Gallagher Premiership\")#, use_recent=True)"
   ]
  },
  {
   "cell_type": "code",
   "execution_count": 29,
   "metadata": {},
   "outputs": [
    {
     "name": "stdout",
     "output_type": "stream",
     "text": [
      "http://www.skysports.com/rugby-union/competitions/top-14/results/2006-07\n",
      "Downloaded 131 new results\n",
      "http://www.skysports.com/rugby-union/competitions/top-14/results/2007-08\n",
      "Downloaded 0 new results\n",
      "http://www.skysports.com/rugby-union/competitions/top-14/results/2008-09\n",
      "Downloaded 3 new results\n",
      "http://www.skysports.com/rugby-union/competitions/top-14/results/2009-10\n",
      "Downloaded 186 new results\n",
      "http://www.skysports.com/rugby-union/competitions/top-14/results/2010-11\n",
      "Downloaded 168 new results\n",
      "http://www.skysports.com/rugby-union/competitions/top-14/results/2011-12\n",
      "Downloaded 187 new results\n",
      "http://www.skysports.com/rugby-union/competitions/top-14/results/2012-13\n",
      "Downloaded 186 new results\n",
      "http://www.skysports.com/rugby-union/competitions/top-14/results/2013-14\n",
      "Downloaded 186 new results\n",
      "http://www.skysports.com/rugby-union/competitions/top-14/results/2014-15\n",
      "Downloaded 180 new results\n",
      "http://www.skysports.com/rugby-union/competitions/top-14/results/2015-16\n",
      "Downloaded 88 new results\n",
      "http://www.skysports.com/rugby-union/competitions/top-14/results/2016-17\n",
      "Downloaded 200 new results\n",
      "http://www.skysports.com/rugby-union/competitions/top-14/results/2017-18\n",
      "Downloaded 187 new results\n",
      "http://www.skysports.com/rugby-union/competitions/top-14/results/2018-19\n",
      "Downloaded 187 new results\n",
      "http://www.skysports.com/rugby-union/competitions/top-14/results/2019-20\n",
      "Downloaded 187 new results\n",
      "http://www.skysports.com/rugby-union/competitions/top-14/results/2020-21\n",
      "Downloaded 200 new results\n"
     ]
    }
   ],
   "source": [
    "start = [2006 + i for i in range(15)]\n",
    "for start_year in start:\n",
    "    pro.download_json(season=f\"{start_year}-{(start_year+1)}\", league=\"Top 14\")#, use_recent=True)"
   ]
  },
  {
   "cell_type": "code",
   "execution_count": 32,
   "metadata": {},
   "outputs": [
    {
     "name": "stdout",
     "output_type": "stream",
     "text": [
      "http://www.skysports.com/rugby-union/competitions/top-14/results/\n",
      "Downloaded 187 new results\n"
     ]
    }
   ],
   "source": [
    "pro.download_json(season=f\"2021-2022\", league=\"Top 14\", use_recent=True)"
   ]
  },
  {
   "cell_type": "code",
   "execution_count": null,
   "metadata": {},
   "outputs": [],
   "source": [
    "# heineken-champions-cup"
   ]
  },
  {
   "cell_type": "code",
   "execution_count": 31,
   "metadata": {},
   "outputs": [
    {
     "name": "stdout",
     "output_type": "stream",
     "text": [
      "http://www.skysports.com/rugby-union/competitions/heineken-champions-cup/results/2006-07\n",
      "Downloaded 59 new results\n",
      "http://www.skysports.com/rugby-union/competitions/european-challenge-cup/results/2006-07\n",
      "Downloaded 0 new results\n",
      "http://www.skysports.com/rugby-union/competitions/heineken-champions-cup/results/2007-08\n",
      "Downloaded 59 new results\n",
      "http://www.skysports.com/rugby-union/competitions/european-challenge-cup/results/2007-08\n",
      "Downloaded 0 new results\n",
      "http://www.skysports.com/rugby-union/competitions/heineken-champions-cup/results/2008-09\n",
      "Downloaded 67 new results\n",
      "http://www.skysports.com/rugby-union/competitions/european-challenge-cup/results/2008-09\n",
      "Downloaded 0 new results\n",
      "http://www.skysports.com/rugby-union/competitions/heineken-champions-cup/results/2009-10\n",
      "Downloaded 67 new results\n",
      "http://www.skysports.com/rugby-union/competitions/european-challenge-cup/results/2009-10\n",
      "Downloaded 0 new results\n",
      "http://www.skysports.com/rugby-union/competitions/heineken-champions-cup/results/2010-11\n",
      "Downloaded 64 new results\n",
      "http://www.skysports.com/rugby-union/competitions/european-challenge-cup/results/2010-11\n",
      "Downloaded 0 new results\n",
      "http://www.skysports.com/rugby-union/competitions/heineken-champions-cup/results/2011-12\n",
      "Downloaded 67 new results\n",
      "http://www.skysports.com/rugby-union/competitions/european-challenge-cup/results/2011-12\n",
      "Downloaded 0 new results\n",
      "http://www.skysports.com/rugby-union/competitions/heineken-champions-cup/results/2012-13\n",
      "Downloaded 67 new results\n",
      "http://www.skysports.com/rugby-union/competitions/european-challenge-cup/results/2012-13\n",
      "Downloaded 0 new results\n",
      "http://www.skysports.com/rugby-union/competitions/heineken-champions-cup/results/2013-14\n",
      "Downloaded 69 new results\n",
      "http://www.skysports.com/rugby-union/competitions/european-challenge-cup/results/2013-14\n",
      "Downloaded 0 new results\n",
      "http://www.skysports.com/rugby-union/competitions/heineken-champions-cup/results/2014-15\n",
      "Downloaded 69 new results\n",
      "http://www.skysports.com/rugby-union/competitions/european-challenge-cup/results/2014-15\n",
      "Downloaded 0 new results\n",
      "http://www.skysports.com/rugby-union/competitions/heineken-champions-cup/results/2015-16\n",
      "Downloaded 67 new results\n",
      "http://www.skysports.com/rugby-union/competitions/european-challenge-cup/results/2015-16\n",
      "Downloaded 0 new results\n",
      "http://www.skysports.com/rugby-union/competitions/heineken-champions-cup/results/2016-17\n",
      "Downloaded 70 new results\n",
      "http://www.skysports.com/rugby-union/competitions/european-challenge-cup/results/2016-17\n",
      "Downloaded 0 new results\n",
      "http://www.skysports.com/rugby-union/competitions/heineken-champions-cup/results/2017-18\n",
      "Downloaded 67 new results\n",
      "http://www.skysports.com/rugby-union/competitions/european-challenge-cup/results/2017-18\n",
      "Downloaded 0 new results\n",
      "http://www.skysports.com/rugby-union/competitions/heineken-champions-cup/results/2018-19\n",
      "Downloaded 67 new results\n",
      "http://www.skysports.com/rugby-union/competitions/european-challenge-cup/results/2018-19\n",
      "Downloaded 0 new results\n",
      "http://www.skysports.com/rugby-union/competitions/heineken-champions-cup/results/2019-20\n",
      "Downloaded 61 new results\n",
      "http://www.skysports.com/rugby-union/competitions/european-challenge-cup/results/2019-20\n",
      "Downloaded 0 new results\n",
      "http://www.skysports.com/rugby-union/competitions/heineken-champions-cup/results/2020-21\n",
      "Downloaded 87 new results\n",
      "http://www.skysports.com/rugby-union/competitions/european-challenge-cup/results/2020-21\n",
      "Downloaded 0 new results\n",
      "http://www.skysports.com/rugby-union/competitions/heineken-champions-cup/results/2021-22\n",
      "Downloaded 14 new results\n",
      "http://www.skysports.com/rugby-union/competitions/european-challenge-cup/results/2021-22\n",
      "Downloaded 0 new results\n"
     ]
    }
   ],
   "source": [
    "start = [2006 + i for i in range(16)]\n",
    "for start_year in start:\n",
    "    pro.download_json(season=f\"{start_year}-{(start_year+1)}\", league=\"Heineken Champions Cup\")\n",
    "    pro.download_json(season=f\"{start_year}-{(start_year+1)}\", league=\"European Challenge Cup\")"
   ]
  },
  {
   "cell_type": "code",
   "execution_count": 33,
   "metadata": {},
   "outputs": [
    {
     "name": "stdout",
     "output_type": "stream",
     "text": [
      "http://www.skysports.com/rugby-union/competitions/european-rugby-challenge-cup/results/2006-07\n",
      "Downloaded 53 new results\n",
      "http://www.skysports.com/rugby-union/competitions/european-rugby-challenge-cup/results/2007-08\n",
      "Downloaded 66 new results\n",
      "http://www.skysports.com/rugby-union/competitions/european-rugby-challenge-cup/results/2008-09\n",
      "Downloaded 66 new results\n",
      "http://www.skysports.com/rugby-union/competitions/european-rugby-challenge-cup/results/2009-10\n",
      "Downloaded 66 new results\n",
      "http://www.skysports.com/rugby-union/competitions/european-rugby-challenge-cup/results/2010-11\n",
      "Downloaded 65 new results\n",
      "http://www.skysports.com/rugby-union/competitions/european-rugby-challenge-cup/results/2011-12\n",
      "Downloaded 66 new results\n",
      "http://www.skysports.com/rugby-union/competitions/european-rugby-challenge-cup/results/2012-13\n",
      "Downloaded 67 new results\n",
      "http://www.skysports.com/rugby-union/competitions/european-rugby-challenge-cup/results/2013-14\n",
      "Downloaded 67 new results\n",
      "http://www.skysports.com/rugby-union/competitions/european-rugby-challenge-cup/results/2014-15\n",
      "Downloaded 67 new results\n",
      "http://www.skysports.com/rugby-union/competitions/european-rugby-challenge-cup/results/2015-16\n",
      "Downloaded 67 new results\n",
      "http://www.skysports.com/rugby-union/competitions/european-rugby-challenge-cup/results/2016-17\n",
      "Downloaded 66 new results\n",
      "http://www.skysports.com/rugby-union/competitions/european-rugby-challenge-cup/results/2017-18\n",
      "Downloaded 66 new results\n",
      "http://www.skysports.com/rugby-union/competitions/european-rugby-challenge-cup/results/2018-19\n",
      "Downloaded 66 new results\n",
      "http://www.skysports.com/rugby-union/competitions/european-rugby-challenge-cup/results/2019-20\n",
      "Downloaded 42 new results\n",
      "http://www.skysports.com/rugby-union/competitions/european-rugby-challenge-cup/results/2020-21\n",
      "Downloaded 79 new results\n",
      "http://www.skysports.com/rugby-union/competitions/european-rugby-challenge-cup/results/2021-22\n",
      "Downloaded 15 new results\n"
     ]
    }
   ],
   "source": [
    "start = [2006 + i for i in range(16)]\n",
    "for start_year in start:\n",
    "    pro.download_json(season=f\"{start_year}-{(start_year+1)}\", league=\"European Rugby Challenge Cup\")"
   ]
  },
  {
   "cell_type": "code",
   "execution_count": 34,
   "metadata": {},
   "outputs": [
    {
     "name": "stdout",
     "output_type": "stream",
     "text": [
      "http://www.skysports.com/rugby-union/competitions/heineken-champions-cup/results/\n",
      "Downloaded 61 new results\n",
      "http://www.skysports.com/rugby-union/competitions/european-rugby-challenge-cup/results/\n",
      "Downloaded 42 new results\n"
     ]
    }
   ],
   "source": [
    "pro.download_json(season=f\"2021-2022\", league=\"Heineken Champions Cup\", use_recent=True)\n",
    "pro.download_json(season=f\"2021-2022\", league=\"European Rugby Challenge Cup\", use_recent=True)"
   ]
  },
  {
   "cell_type": "code",
   "execution_count": null,
   "metadata": {},
   "outputs": [],
   "source": []
  }
 ],
 "metadata": {
  "kernelspec": {
   "display_name": "Python 3",
   "language": "python",
   "name": "python3"
  },
  "language_info": {
   "codemirror_mode": {
    "name": "ipython",
    "version": 3
   },
   "file_extension": ".py",
   "mimetype": "text/x-python",
   "name": "python",
   "nbconvert_exporter": "python",
   "pygments_lexer": "ipython3",
   "version": "3.8.5"
  }
 },
 "nbformat": 4,
 "nbformat_minor": 4
}
