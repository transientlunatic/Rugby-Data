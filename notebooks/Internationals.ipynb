{
 "cells": [
  {
   "cell_type": "code",
   "execution_count": 1,
   "metadata": {},
   "outputs": [],
   "source": [
    "import pandas as pd"
   ]
  },
  {
   "cell_type": "code",
   "execution_count": 2,
   "metadata": {},
   "outputs": [],
   "source": [
    "data = pd.read_html(\"/home/daniel/Downloads/pick and go - Rugby Union Test & Super14 results and statistics.html\")"
   ]
  },
  {
   "cell_type": "code",
   "execution_count": 3,
   "metadata": {},
   "outputs": [],
   "source": [
    "data = data[1]"
   ]
  },
  {
   "cell_type": "code",
   "execution_count": 4,
   "metadata": {},
   "outputs": [],
   "source": [
    "data['Date'] = pd.to_datetime(data['Date'])"
   ]
  },
  {
   "cell_type": "code",
   "execution_count": 5,
   "metadata": {},
   "outputs": [],
   "source": [
    "data['home'] = data.apply(lambda row: row['Match'].split(\" v \")[0], axis=1)\n",
    "data['away'] = data.apply(lambda row: row['Match'].split(\" v \")[1], axis=1)"
   ]
  },
  {
   "cell_type": "code",
   "execution_count": 6,
   "metadata": {},
   "outputs": [],
   "source": [
    "match_row = data.loc[0]\n",
    "match = {}"
   ]
  },
  {
   "cell_type": "code",
   "execution_count": 25,
   "metadata": {},
   "outputs": [],
   "source": [
    "matches = []\n",
    "for i, match_row in data.iterrows():\n",
    "    match = {}\n",
    "    match['date'] = f\"{match_row['Date']}\"\n",
    "    match['stadium'] = match_row['Venue']\n",
    "    match['tournament'] = match_row['Tourn']\n",
    "    match['round'] = match_row['Rnd']\n",
    "    match['home'] = {}\n",
    "    match['home']['team'] = match_row['Match'].split(\" v \")[0]\n",
    "    match['home']['lineup'] = {}\n",
    "    match['home']['score'] = match_row['Score'].split(\"-\")[0]\n",
    "    match['home']['scores'] = [{\"type\": \"try\", \n",
    "                                \"minute\": -1, \n",
    "                                \"value\": 0,\n",
    "                                \"player\": None} for i in match_row['Tries'].split(\":\")[0]]\n",
    "\n",
    "\n",
    "    match['away'] = {}\n",
    "    match['away']['team'] = match_row['Match'].split(\" v \")[1]\n",
    "    match['away']['lineup'] = {}\n",
    "    match['away']['score'] = match_row['Score'].split(\"-\")[1]\n",
    "    match['away']['scores'] = [{\"type\": \"try\", \n",
    "                                \"value\": 0,\n",
    "                                \"minute\": -1, \n",
    "                                \"player\": None} for i in match_row['Tries'].split(\":\")[1]]\n",
    "    \n",
    "    matches.append(match)"
   ]
  },
  {
   "cell_type": "code",
   "execution_count": 26,
   "metadata": {},
   "outputs": [],
   "source": [
    "import json"
   ]
  },
  {
   "cell_type": "code",
   "execution_count": 27,
   "metadata": {},
   "outputs": [],
   "source": [
    "with open(\"../json/international.json\", \"w\") as f:\n",
    "    json.dump(matches, f)"
   ]
  },
  {
   "cell_type": "code",
   "execution_count": 28,
   "metadata": {},
   "outputs": [],
   "source": [
    "data_check = pd.read_json(\"../json/international.json\")"
   ]
  },
  {
   "cell_type": "code",
   "execution_count": 29,
   "metadata": {},
   "outputs": [],
   "source": [
    "from rugby import *"
   ]
  },
  {
   "cell_type": "code",
   "execution_count": 30,
   "metadata": {},
   "outputs": [],
   "source": [
    "pro14 = Tournament(\"Internationals\", \"2021-2022\", data_check)"
   ]
  },
  {
   "cell_type": "code",
   "execution_count": 33,
   "metadata": {},
   "outputs": [
    {
     "data": {
      "text/plain": [
       "AUS\t(16)\tv\t(16)\tARG"
      ]
     },
     "execution_count": 33,
     "metadata": {},
     "output_type": "execute_result"
    }
   ],
   "source": [
    "\n",
    "pro14.matches[-1]"
   ]
  },
  {
   "cell_type": "code",
   "execution_count": null,
   "metadata": {},
   "outputs": [],
   "source": []
  }
 ],
 "metadata": {
  "kernelspec": {
   "display_name": "Python 3",
   "language": "python",
   "name": "python3"
  },
  "language_info": {
   "codemirror_mode": {
    "name": "ipython",
    "version": 3
   },
   "file_extension": ".py",
   "mimetype": "text/x-python",
   "name": "python",
   "nbconvert_exporter": "python",
   "pygments_lexer": "ipython3",
   "version": "3.8.5"
  }
 },
 "nbformat": 4,
 "nbformat_minor": 4
}
